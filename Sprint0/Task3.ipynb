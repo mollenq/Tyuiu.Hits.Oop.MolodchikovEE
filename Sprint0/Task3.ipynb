{
 "cells": [
  {
   "cell_type": "markdown",
   "metadata": {},
   "source": [
    "<h1 style=\"color:DodgerBlue\">Индивидальный проект</h1>"
   ]
  },
  {
   "cell_type": "markdown",
   "metadata": {},
   "source": [
    "<h2 style=\"color:DodgerBlue\">Название проекта:</h2>\n",
    "\n",
    "----\n",
    "\n",
    "### Вариант задания 14\n"
   ]
  },
  {
   "cell_type": "markdown",
   "metadata": {},
   "source": [
    "<h2 style=\"color:DodgerBlue\">Описание проекта:</h2>\n",
    "\n",
    "----\n",
    "\n",
    "Создать базовый класс Supplier в C#, который будет представлять информацию о поставщиках товаров или услуг. На основе этого класса разработать 2-3 производных класса, демонстрирующих принципы наследования и полиморфизма. В каждом из классов должны быть реализованы новые атрибуты и методы, а также переопределены некоторые методы базового класса для демонстрации полиморфизма.\n",
    "\n",
    "Требования к базовому классу Supplier:\n",
    "\n",
    "\n",
    "Атрибуты: ID поставщика (SupplierId), Название компании (CompanyName), Тип продукции (ProductType).\n",
    "\n",
    "\n",
    "Методы:\n",
    "\n",
    "\n",
    "GetCompanyInfo(): метод для получения информации о компании.\n",
    "\n",
    "\n",
    "ProvideQuote(): метод для предоставления котировки на товары или услуги.\n",
    "\n",
    "\n",
    "SubmitOrder(): метод для отправки заказа поставщику.\n",
    "Требования к производным классам:\n",
    "\n",
    "1. Производитель (Manufacturer): Должен содержать дополнительные атрибуты, такие как Год основания (FoundedYear). Метод ProvideQuote() должен быть переопределен для включения информации о годе основания компании в котировку.\n",
    "2. Ритейлер (Retailer): Должен содержать дополнительные атрибуты, такие как Расположение магазина (StoreLocation). Метод SubmitOrder() должен быть переопределен для добавления информации о расположении магазина при отправке заказа.\n",
    "3. Импортер (Importer) (если требуется третий класс): Должен содержать дополнительные атрибуты, такие как Страна происхождения товара (OriginCountry). Метод GetCompanyInfo() должен быть переопределен для отображения страны происхождения товара вместе с остальной информацией о компании."
   ]
  },
  {
   "cell_type": "markdown",
   "metadata": {},
   "source": [
    "<h2 style=\"color:DodgerBlue\">Реализация:</h2>\n",
    "\n",
    "----"
   ]
  },
  {
   "cell_type": "code",
   "execution_count": 1,
   "metadata": {
    "dotnet_interactive": {
     "language": "csharp"
    },
    "polyglot_notebook": {
     "kernelName": "csharp"
    }
   },
   "outputs": [
    {
     "name": "stdout",
     "output_type": "stream",
     "text": [
      "ID: 1, Компания: TechProd, Тип продукции: Электроника\n",
      "Компания TechProd (основана в 1995) предоставляет котировку на Электроника.\n",
      "Заказ отправлен в компанию TechProd.\n",
      "\n",
      "ID: 2, Компания: ShopWorld, Тип продукции: Одежда\n",
      "Компания ShopWorld предоставляет котировку на продукцию типа Одежда.\n",
      "Заказ отправлен в компанию ShopWorld, расположенную в Москва.\n",
      "\n",
      "ID: 3, Компания: GlobalTrade, Тип продукции: Фрукты, Страна происхождения: Испания\n",
      "Компания GlobalTrade предоставляет котировку на продукцию типа Фрукты.\n",
      "Заказ отправлен в компанию GlobalTrade.\n"
     ]
    }
   ],
   "source": [
    "public class Supplier\n",
    "{\n",
    "    public int SupplierId { get; set; }\n",
    "    public string CompanyName { get; set; }\n",
    "    public string ProductType { get; set; }\n",
    "\n",
    "    public Supplier(int supplierId, string companyName, string productType)\n",
    "    {\n",
    "        SupplierId = supplierId;\n",
    "        CompanyName = companyName;\n",
    "        ProductType = productType;\n",
    "    }\n",
    "\n",
    "    public virtual string GetCompanyInfo()\n",
    "    {\n",
    "        return $\"ID: {SupplierId}, Компания: {CompanyName}, Тип продукции: {ProductType}\";\n",
    "    }\n",
    "\n",
    "    public virtual string ProvideQuote()\n",
    "    {\n",
    "        return $\"Компания {CompanyName} предоставляет котировку на продукцию типа {ProductType}.\";\n",
    "    }\n",
    "\n",
    "    public virtual string SubmitOrder()\n",
    "    {\n",
    "        return $\"Заказ отправлен в компанию {CompanyName}.\";\n",
    "    }\n",
    "}\n",
    "\n",
    "public class Manufacturer : Supplier\n",
    "{\n",
    "    public int FoundedYear { get; set; }\n",
    "\n",
    "    public Manufacturer(int supplierId, string companyName, string productType, int foundedYear)\n",
    "        : base(supplierId, companyName, productType)\n",
    "    {\n",
    "        FoundedYear = foundedYear;\n",
    "    }\n",
    "\n",
    "    public override string ProvideQuote()\n",
    "    {\n",
    "        return $\"Компания {CompanyName} (основана в {FoundedYear}) предоставляет котировку на {ProductType}.\";\n",
    "    }\n",
    "}\n",
    "\n",
    "public class Retailer : Supplier\n",
    "{\n",
    "    public string StoreLocation { get; set; }\n",
    "\n",
    "    public Retailer(int supplierId, string companyName, string productType, string storeLocation)\n",
    "        : base(supplierId, companyName, productType)\n",
    "    {\n",
    "        StoreLocation = storeLocation;\n",
    "    }\n",
    "\n",
    "    public override string SubmitOrder()\n",
    "    {\n",
    "        return $\"Заказ отправлен в компанию {CompanyName}, расположенную в {StoreLocation}.\";\n",
    "    }\n",
    "}\n",
    "\n",
    "public class Importer : Supplier\n",
    "{\n",
    "    public string OriginCountry { get; set; }\n",
    "\n",
    "    public Importer(int supplierId, string companyName, string productType, string originCountry)\n",
    "        : base(supplierId, companyName, productType)\n",
    "    {\n",
    "        OriginCountry = originCountry;\n",
    "    }\n",
    "\n",
    "    public override string GetCompanyInfo()\n",
    "    {\n",
    "        return $\"ID: {SupplierId}, Компания: {CompanyName}, Тип продукции: {ProductType}, Страна происхождения: {OriginCountry}\";\n",
    "    }\n",
    "}\n",
    "\n",
    "\n",
    "Supplier manufacturer = new Manufacturer(1, \"TechProd\", \"Электроника\", 1995);\n",
    "Supplier retailer = new Retailer(2, \"ShopWorld\", \"Одежда\", \"Москва\");\n",
    "Supplier importer = new Importer(3, \"GlobalTrade\", \"Фрукты\", \"Испания\");\n",
    "\n",
    "Console.WriteLine(manufacturer.GetCompanyInfo());\n",
    "Console.WriteLine(manufacturer.ProvideQuote());\n",
    "Console.WriteLine(manufacturer.SubmitOrder());\n",
    "Console.WriteLine();\n",
    "\n",
    "Console.WriteLine(retailer.GetCompanyInfo());\n",
    "Console.WriteLine(retailer.ProvideQuote());\n",
    "Console.WriteLine(retailer.SubmitOrder());\n",
    "Console.WriteLine();\n",
    "\n",
    "Console.WriteLine(importer.GetCompanyInfo());\n",
    "Console.WriteLine(importer.ProvideQuote());\n",
    "Console.WriteLine(importer.SubmitOrder());"
   ]
  }
 ],
 "metadata": {
  "kernelspec": {
   "display_name": ".NET (C#)",
   "language": "C#",
   "name": ".net-csharp"
  },
  "polyglot_notebook": {
   "kernelInfo": {
    "defaultKernelName": "csharp",
    "items": [
     {
      "aliases": [],
      "languageName": "csharp",
      "name": "csharp"
     }
    ]
   }
  }
 },
 "nbformat": 4,
 "nbformat_minor": 2
}
